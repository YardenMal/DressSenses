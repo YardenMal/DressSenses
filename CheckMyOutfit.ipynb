{
 "cells": [
  {
   "cell_type": "markdown",
   "metadata": {},
   "source": [
    "# Check my outfit"
   ]
  },
  {
   "cell_type": "markdown",
   "metadata": {},
   "source": [
    "### **INPUT:** user's decision \n",
    "chosen colors for: top, bottom and shoes\n",
    "### **OUTPUT:** match or not"
   ]
  },
  {
   "cell_type": "markdown",
   "metadata": {},
   "source": [
    "The goal is to successfully match 3 colors in a way that is considered 'MATCHING'\n",
    "There are several guides to match three colors of a basic outfit consisting of:\n",
    "<br>\n",
    "- TOP(top) - shirt or blouse\n",
    "- BOTTOM(bot) - pants or shorts\n",
    "- SHOES(shs) - shoes\n",
    "\n",
    "We asume all 3 pieces of clothing are plain and do not contain complex color or designs"
   ]
  },
  {
   "cell_type": "markdown",
   "metadata": {},
   "source": [
    "### This are all the functions we need to run the code. please scroll down to the interactive section - search \"Interactive section starts here\""
   ]
  },
  {
   "cell_type": "code",
   "execution_count": 1,
   "metadata": {},
   "outputs": [],
   "source": [
    "import numpy as np\n",
    "import matplotlib.pyplot as plt\n",
    "import skfuzzy as fuzz\n",
    "from skfuzzy import control as ctrl\n",
    "import colorsys\n",
    "import warnings\n",
    "\n",
    "warnings.filterwarnings('ignore')"
   ]
  },
  {
   "cell_type": "code",
   "execution_count": 2,
   "metadata": {},
   "outputs": [],
   "source": [
    "class color: #for fonts\n",
    "   PURPLE = '\\033[95m'\n",
    "   CYAN = '\\033[96m'\n",
    "   DARKCYAN = '\\033[36m'\n",
    "   BLUE = '\\033[94m'\n",
    "   GREEN = '\\033[92m'\n",
    "   YELLOW = '\\033[93m'\n",
    "   RED = '\\033[91m'\n",
    "   BOLD = '\\033[1m'\n",
    "   UNDERLINE = '\\033[4m'\n",
    "   END = '\\033[0m'"
   ]
  },
  {
   "cell_type": "markdown",
   "metadata": {},
   "source": [
    "## Fuzzy logic models"
   ]
  },
  {
   "cell_type": "code",
   "execution_count": 3,
   "metadata": {},
   "outputs": [],
   "source": [
    "\"\"\"\n",
    "Antecedents HSV\n",
    "HUE: color represented by number from 0(red) - 360(violet)\n",
    "{ WARM, COOL }\n",
    "\n",
    "SATURATION: color saturation represented by number from 0(faded/gray color) - 100(full color)\n",
    "{ GRAY, VERY_FADED, FADED, SATURATED, VERY_SATURATED }\n",
    "\n",
    "VALUE: brightness represented by number 0(dark) - 100(light)\n",
    "{ BLACK, VERY_DARK, DARK, BRIGHT, VERY_BRIGHT }\n",
    "\"\"\"\n",
    "\n",
    "hue_range = np.arange(0, 361, 1)\n",
    "hue_fuzzy = ['WARM', 'COOL', 'WARM_']\n",
    "hue = ctrl.Antecedent(hue_range, 'hue')\n",
    "hue['WARM'] = fuzz.gaussmf(hue.universe, 0, 60)\n",
    "hue['COOL'] = fuzz.gaussmf(hue.universe, 180, 60)\n",
    "hue['WARM_'] = fuzz.gaussmf(hue.universe, 360, 60)\n",
    "\n",
    "\n",
    "sat = ctrl.Antecedent(np.arange(0, 101, 1), 'saturation')\n",
    "sat_fuzzy = ['GRAY', 'VERY_FADED', 'FADED', 'SATURATED', 'VERY_SATURATED']\n",
    "sat['GRAY'] = fuzz.gaussmf(sat.universe, 0, 10)\n",
    "sat['VERY_FADED'] = fuzz.gaussmf(sat.universe, 25, 10)\n",
    "sat['FADED'] = fuzz.gaussmf(sat.universe, 50, 10)\n",
    "sat['SATURATED'] = fuzz.gaussmf(sat.universe, 75, 10)\n",
    "sat['VERY_SATURATED'] = fuzz.gaussmf(sat.universe, 100, 10)\n",
    "\n",
    "\n",
    "val = ctrl.Antecedent(np.arange(0, 101, 1), 'value')\n",
    "val_fuzzy = ['BLACK', 'VERY_DARK', 'DARK', 'BRIGHT', 'VERY_BRIGHT']\n",
    "val['BLACK'] = fuzz.gaussmf(val.universe, 0, 10)\n",
    "val['VERY_DARK'] = fuzz.gaussmf(val.universe, 25, 10)\n",
    "val['DARK'] = fuzz.gaussmf(val.universe, 50, 10)\n",
    "val['BRIGHT'] = fuzz.gaussmf(val.universe, 75, 10)\n",
    "val['VERY_BRIGHT'] = fuzz.gaussmf(val.universe, 100, 10)"
   ]
  },
  {
   "cell_type": "code",
   "execution_count": 4,
   "metadata": {},
   "outputs": [],
   "source": [
    "\"\"\"\n",
    "Consequents\n",
    "TONE: mix of Saturation and Value that indicate if color is neutral or dark/bright\n",
    "{ NEUTRAL, DARK, BRIGHT }\n",
    "\"\"\"\n",
    "tone_range = np.arange(0, 12, 1)\n",
    "tone_fuzzy = ['NEUTRAL', 'DARK', 'BRIGHT']\n",
    "tone = ctrl.Consequent(tone_range, 'tone')\n",
    "\n",
    "tone['NEUTRAL'] = fuzz.trapmf(tone.universe, [0, 0, 1, 2])\n",
    "tone['DARK'] = fuzz.gbellmf(tone.universe, 2, 1, 3)\n",
    "tone['BRIGHT'] = fuzz.gbellmf(tone.universe, 4, 1, 9.5)\n",
    "#tone['NEUTRAL_'] = fuzz.trimf(tone.universe, [10, 11, 11])"
   ]
  },
  {
   "cell_type": "code",
   "execution_count": 5,
   "metadata": {},
   "outputs": [],
   "source": [
    "\"\"\"\n",
    "Fuzzy rules\n",
    "for tones\n",
    "\"\"\"\n",
    "rule1 = ctrl.Rule(val['BLACK'] | sat['GRAY'] | sat['VERY_FADED'], tone['NEUTRAL'], 'Dark colors without color (low brightness/dark) considered neutral')\n",
    "rule2 = ctrl.Rule(val['VERY_DARK'] & sat['SATURATED'], tone['NEUTRAL'], 'Very dark colors with high saturation')\n",
    "rule3 = ctrl.Rule(val['DARK'] & sat['FADED'], tone['DARK'], 'Dark color with normal saturation')\n",
    "rule4 = ctrl.Rule(val['DARK'] & sat['VERY_SATURATED'], tone['BRIGHT'], 'Dark color with high saturation')\n",
    "rule5 = ctrl.Rule(val['BRIGHT'] & sat['SATURATED'], tone['BRIGHT'], 'Bright color with high saturation')\n",
    "rule6 = ctrl.Rule(val['VERY_BRIGHT'] & sat['FADED'], tone['BRIGHT'], 'Very bright color with some saturation')\n",
    "rule7 = ctrl.Rule(val['VERY_BRIGHT'] & sat['VERY_SATURATED'], tone['BRIGHT'], 'Very bright color with high saturation')\n",
    "rule8 = ctrl.Rule(val['VERY_DARK'] & sat['FADED'], tone['NEUTRAL'], 'Very dark color with faded saturation')"
   ]
  },
  {
   "cell_type": "code",
   "execution_count": 6,
   "metadata": {},
   "outputs": [],
   "source": [
    "\"\"\"\n",
    "Control system\n",
    "for tones\n",
    "\"\"\"\n",
    "tone_ctrl = ctrl.ControlSystem([rule1, rule2, rule3, rule4, rule5, rule6, rule7, rule8])\n"
   ]
  },
  {
   "cell_type": "code",
   "execution_count": 7,
   "metadata": {},
   "outputs": [],
   "source": [
    "\"\"\"\n",
    "Simulation\n",
    "for tones\n",
    "\"\"\"\n",
    "tone_sim = ctrl.ControlSystemSimulation(tone_ctrl)"
   ]
  },
  {
   "cell_type": "code",
   "execution_count": 8,
   "metadata": {},
   "outputs": [],
   "source": [
    "def cr_tup(my_str):\n",
    "    # create tuple\n",
    "    import re\n",
    "    \n",
    "    my_top_list = [my_str]\n",
    "\n",
    "    for i in my_top_list:\n",
    "        my_string = i.value\n",
    "        values = re.findall(r'\\d+', my_string)\n",
    "        return tuple(map(int, values))"
   ]
  },
  {
   "cell_type": "code",
   "execution_count": 9,
   "metadata": {},
   "outputs": [],
   "source": [
    "\"\"\"\n",
    "GetMembership\n",
    "Returns String representing the Fuzzy value given a variable's range, model, and crisp value\n",
    "\"\"\"\n",
    "def GetMembership(fuzzy_values, var_range, var_model, crisp_value):\n",
    "    max_membership = 0\n",
    "    membership_name = fuzzy_values[0]\n",
    "    for i in range(len(fuzzy_values)):\n",
    "        temp_memb = fuzz.interp_membership(var_range, var_model[fuzzy_values[i]].mf, crisp_value)\n",
    "        if temp_memb > max_membership:\n",
    "            max_membership = temp_memb\n",
    "            membership_name = fuzzy_values[i]\n",
    "    return membership_name\n"
   ]
  },
  {
   "cell_type": "markdown",
   "metadata": {},
   "source": [
    "### API"
   ]
  },
  {
   "cell_type": "code",
   "execution_count": 10,
   "metadata": {},
   "outputs": [],
   "source": [
    "\"\"\"\n",
    "Given Saturation and Value, returns a String indicating if the combination \n",
    "of both values results in a 'NEUTRAL', 'DARK', or 'BRIGHT' tone.\n",
    "INPUT:\n",
    "values - tuple(sat, val)\n",
    "    + sat - value from 0-100\n",
    "    + val - value from 0-100\n",
    "verbose - prints both crisp value and fuzzy value\n",
    "\"\"\"\n",
    "def GetTone(values, verbose=False):\n",
    "    tone_sim = ctrl.ControlSystemSimulation(tone_ctrl)\n",
    "    tone_sim.input['saturation'] = values[0]\n",
    "    tone_sim.input['value'] = values[1]\n",
    "    tone_sim.compute()\n",
    "    tone_output = tone_sim.output['tone']\n",
    "    tone_membership = GetMembership(tone_fuzzy, tone_range, tone, tone_output)\n",
    "    if verbose:\n",
    "        print(\"TONE CRISP VALUE: \", tone_output)\n",
    "        print(\"TONE FUZZY VALUE: \", tone_membership)\n",
    "    return tone_membership"
   ]
  },
  {
   "cell_type": "code",
   "execution_count": 11,
   "metadata": {},
   "outputs": [],
   "source": [
    "\"\"\"\n",
    "Given Hue, returns a String indicating if the color belongs\n",
    "to 'WARM' or 'COOL' colors.\n",
    "INPUT:\n",
    "hue - value from 0-360\n",
    "verbose - prints both crisp value and fuzzy value\n",
    "\"\"\"\n",
    "def GetColorTemp(hue_val, verbose=False):\n",
    "    temp_membership = GetMembership(hue_fuzzy, hue_range, hue, hue_val)\n",
    "    if verbose:\n",
    "        print(\"TEMP. CRISP VALUE: \", hue_val)\n",
    "        print(\"TEMP. FUZZY VALUE: \", temp_membership)\n",
    "    return temp_membership"
   ]
  },
  {
   "cell_type": "code",
   "execution_count": 12,
   "metadata": {},
   "outputs": [],
   "source": [
    "\"\"\"\n",
    "Given Hue, Saturation, and Value, returns a String describing\n",
    "the specified color. The output is composed of both the tone of\n",
    "the color, and the temperature of the color.\n",
    "INPUT:\n",
    "hsv - tuple(hue, sat, val)\n",
    "    + hue - value from 0-360\n",
    "    + sat - value from 0-100\n",
    "    + val - value from 0-100\n",
    "OUTPUT: (TONE, TEMP) ex. (DARK, WARM)\n",
    "\"\"\"\n",
    "def GetColorDesc(hsv):\n",
    "    tone = GetTone((hsv[1], hsv[2]))\n",
    "    temp = GetColorTemp(hsv[0])\n",
    "    if temp == \"WARM_\": temp = \"WARM\"\n",
    "    return (tone, temp)"
   ]
  },
  {
   "cell_type": "code",
   "execution_count": 13,
   "metadata": {},
   "outputs": [],
   "source": [
    "\"\"\"\n",
    "Helper function that displays a colored block given a color\n",
    "represented in HSV format\n",
    "INPUT:\n",
    "hsv - tuple(hue, sat, val)\n",
    "\"\"\"\n",
    "def ShowColor(hsv):\n",
    "    rgb = colorsys.hsv_to_rgb(hsv[0]/360.0, hsv[1]/100.0, hsv[2]/100.0)\n",
    "    fig, ax = plt.subplots(nrows=1, ncols=1)\n",
    "    fig.set_size_inches(3, 2)\n",
    "    ax.set_facecolor(rgb)\n",
    "    plt.tick_params(\n",
    "        left=False,\n",
    "        bottom=False,\n",
    "        labelleft=False,\n",
    "        labelbottom=False)\n",
    "    plt.title('HSV'+str(hsv))\n",
    "    plt.show()"
   ]
  },
  {
   "cell_type": "code",
   "execution_count": 14,
   "metadata": {},
   "outputs": [],
   "source": [
    "\"\"\"\n",
    "Given Hue, Saturation, and Value, displays a block with the specified HSV color\n",
    "and prints its color description\n",
    "INPUT:\n",
    "hsv - tuple(hue, sat, val)\n",
    "    + hue - value from 0-360\n",
    "    + sat - value from 0-100\n",
    "    + val - value from 0-100\n",
    "\"\"\"\n",
    "def ShowColorWithDesc(hsv):\n",
    "    ShowColor(hsv)\n",
    "    print(GetColorDesc(hsv))"
   ]
  },
  {
   "cell_type": "code",
   "execution_count": 15,
   "metadata": {},
   "outputs": [],
   "source": [
    "\"\"\"\n",
    "Print colors of a complete outfit in a horizontal bar chart\n",
    "INPUT:\n",
    "outfit - tuple(top, bot, shs)\n",
    "    + top - hsv\n",
    "    + bot - hsv\n",
    "    + shs - hsv\n",
    "\"\"\"\n",
    "def DisplayOutfitColors(outfit, valid_matches=[]):\n",
    "    colors = [colorsys.hsv_to_rgb(hsv[0]/360.0, hsv[1]/100.0, hsv[2]/100.0) for hsv in outfit]\n",
    "\n",
    "    plt.rcdefaults()\n",
    "    fig, ax = plt.subplots()\n",
    "\n",
    "    clothing = ('TOP', 'BOTTOM', 'SHOES')\n",
    "    y_pos = np.arange(len(clothing))\n",
    "    bar_width = [1, 1, 1]\n",
    "\n",
    "    ax.barh(y_pos, bar_width, align='center', color=colors, height=0.99)\n",
    "    ax.set_yticks(y_pos)\n",
    "    ax.set_yticklabels(clothing)\n",
    "    ax.invert_yaxis()  # labels read top-to-bottom\n",
    "    ax.set_title('Outfit color scheme')\n",
    "    ax.set_facecolor((0.8,0.8,0.8))\n",
    "\n",
    "    plt.tick_params(\n",
    "            left=True,\n",
    "            bottom=False,\n",
    "            labelleft=True,\n",
    "            labelbottom=False)\n",
    "    plt.margins(y=0, x=0)\n",
    "\n",
    "    plt.show()\n",
    "    \n",
    "    print(\"Valid outfit color schemes: \", valid_matches)"
   ]
  },
  {
   "cell_type": "markdown",
   "metadata": {},
   "source": [
    "# Testing - Check My Outfit"
   ]
  },
  {
   "cell_type": "markdown",
   "metadata": {},
   "source": [
    "### Basic outfit"
   ]
  },
  {
   "cell_type": "code",
   "execution_count": 16,
   "metadata": {},
   "outputs": [],
   "source": [
    "\"\"\"\n",
    "Basic outfit follow these rules\n",
    "- No more than one bright color\n",
    "- No high contrast between colors (bright warm + dark cool)\n",
    "- Any number of neutral colors can fit anywhere\n",
    "INPUT:\n",
    "outfit - tuple(top, bot, shs)\n",
    "    top - tuple(tone, temp)\n",
    "    bot - tuple(tone, temp)\n",
    "    shs - tuple(tone, temp)\n",
    "OUTPUT: \n",
    "    True or False\n",
    "\"\"\"\n",
    "def BasicMatch(outfit):\n",
    "    top = outfit[0]\n",
    "    bot = outfit[1] \n",
    "    shs = outfit[2]\n",
    "    \n",
    "    bright_count = len([i for i in outfit if i[0] == 'BRIGHT'])\n",
    "    if bright_count > 1: return False\n",
    "    # Check for high contrast\n",
    "    \n",
    "    return True"
   ]
  },
  {
   "cell_type": "markdown",
   "metadata": {},
   "source": [
    "### Neutral outfit"
   ]
  },
  {
   "cell_type": "code",
   "execution_count": 17,
   "metadata": {},
   "outputs": [],
   "source": [
    "\"\"\"\n",
    "Neutral outfit follow these rules\n",
    "- Only neutral colors\n",
    "INPUT:\n",
    "outfit - tuple(top, bot, shs)\n",
    "    top - tuple(tone, temp)\n",
    "    bot - tuple(tone, temp)\n",
    "    shs - tuple(tone, temp)\n",
    "OUTPUT:\n",
    "    True or False\n",
    "\"\"\"\n",
    "def NeutralMatch(outfit):\n",
    "    top = outfit[0]\n",
    "    bot = outfit[1] \n",
    "    shs = outfit[2]\n",
    "    \n",
    "    neutral = [color for color in outfit if color[0] == 'NEUTRAL']\n",
    "    if len(neutral) != len(outfit):\n",
    "        return False\n",
    "    \n",
    "    return True"
   ]
  },
  {
   "cell_type": "markdown",
   "metadata": {},
   "source": [
    "### Analogous outfit"
   ]
  },
  {
   "cell_type": "code",
   "execution_count": 18,
   "metadata": {},
   "outputs": [],
   "source": [
    "\"\"\"\n",
    "Analogous outfit follow these rules\n",
    "- All colors must be within the same temp.\n",
    "- Any number of neutral colors\n",
    "INPUT:\n",
    "outfit - tuple(top, bot, shs)\n",
    "    top - tuple(tone, temp)\n",
    "    bot - tuple(tone, temp)\n",
    "    shs - tuple(tone, temp)\n",
    "OUTPUT:\n",
    "    True or False\n",
    "\"\"\"\n",
    "def AnalogousMatch(outfit):\n",
    "    top = outfit[0]\n",
    "    bot = outfit[1] \n",
    "    shs = outfit[2]\n",
    "    \n",
    "    cool_count = len([color for color in outfit if color[1] == 'COOL'])\n",
    "    warm_count = len(outfit) - cool_count\n",
    "    if cool_count < len(outfit) and warm_count < len(outfit):\n",
    "        return False\n",
    "    \n",
    "    return True"
   ]
  },
  {
   "cell_type": "markdown",
   "metadata": {},
   "source": [
    "### Contrast outfit"
   ]
  },
  {
   "cell_type": "code",
   "execution_count": 19,
   "metadata": {},
   "outputs": [],
   "source": [
    "\"\"\"\n",
    "Contrast outfit follow these rules\n",
    "- At least one warm color\n",
    "- Both dark and bright colors present\n",
    "INPUT:\n",
    "outfit - tuple(top, bot, shs)\n",
    "    top - tuple(tone, temp)\n",
    "    bot - tuple(tone, temp)\n",
    "    shs - tuple(tone, temp)\n",
    "OUTPUT:\n",
    "    True or False\n",
    "\"\"\"\n",
    "def ContrastMatch(outfit):\n",
    "    top = outfit[0]\n",
    "    bot = outfit[1] \n",
    "    shs = outfit[2]\n",
    "    \n",
    "    warm_count = len([color for color in outfit if color[1] == 'WARM'])\n",
    "    if warm_count < 1: return False\n",
    "    \n",
    "    dark_count = len([color for color in outfit if color[0] == 'DARK'])\n",
    "    bright_count = len([color for color in outfit if color[0] == 'BRIGHT'])\n",
    "    if dark_count < 1 or bright_count < 1:\n",
    "        return False\n",
    "    \n",
    "    return True"
   ]
  },
  {
   "cell_type": "markdown",
   "metadata": {},
   "source": [
    "### Bright summer outfit"
   ]
  },
  {
   "cell_type": "code",
   "execution_count": 20,
   "metadata": {},
   "outputs": [],
   "source": [
    "\"\"\"\n",
    "Bright summer outfit follow these rules\n",
    "- At least two warm colors\n",
    "- At least one bright color\n",
    "- At most one dark color\n",
    "INPUT:\n",
    "outfit - tuple(top, bot, shs)\n",
    "    top - tuple(tone, temp)\n",
    "    bot - tuple(tone, temp)\n",
    "    shs - tuple(tone, temp)\n",
    "OUTPUT: \n",
    "    True or False\n",
    "\"\"\"\n",
    "def SummerMatch(outfit):\n",
    "    top = outfit[0]\n",
    "    bot = outfit[1] \n",
    "    shs = outfit[2]\n",
    "    \n",
    "    non_neutral = [color for color in outfit if color[0] != 'NEUTRAL']\n",
    "    \n",
    "    warm_count = len([color for color in non_neutral if color[1] == 'WARM'])\n",
    "    if warm_count < 2: return False\n",
    "    \n",
    "    dark_count = len([color for color in non_neutral if color[0] == 'DARK'])\n",
    "    if dark_count > 1: return False\n",
    "    \n",
    "    bright_count = len(non_neutral) - dark_count\n",
    "    if bright_count < 1: return False\n",
    "    \n",
    "    return True"
   ]
  },
  {
   "cell_type": "markdown",
   "metadata": {},
   "source": [
    "### Dark winter outfit"
   ]
  },
  {
   "cell_type": "code",
   "execution_count": 21,
   "metadata": {},
   "outputs": [],
   "source": [
    "\"\"\"\n",
    "Dark winter outfit follow these rules\n",
    "- At least one dark color\n",
    "- No bright colors\n",
    "INPUT:\n",
    "outfit - tuple(top, bot, shs)\n",
    "    top - tuple(tone, temp)\n",
    "    bot - tuple(tone, temp)\n",
    "    shs - tuple(tone, temp)\n",
    "OUTPUT:\n",
    "    True or False\n",
    "\"\"\"\n",
    "def WinterMatch(outfit):\n",
    "    top = outfit[0]\n",
    "    bot = outfit[1] \n",
    "    shs = outfit[2]\n",
    "    \n",
    "    non_neutral = [color for color in outfit if color[0] != 'NEUTRAL']\n",
    "    \n",
    "    dark_count = len([color for color in non_neutral if color[0] == 'DARK'])\n",
    "    if dark_count < 1: return False\n",
    "    \n",
    "    bright_count = len(non_neutral) - dark_count\n",
    "    if bright_count > 0: return False\n",
    "    \n",
    "    return True"
   ]
  },
  {
   "cell_type": "code",
   "execution_count": 22,
   "metadata": {},
   "outputs": [],
   "source": [
    "\"\"\"\n",
    "Iterate outfit over all color schemes and get all valid matches\n",
    "INPUT:\n",
    "outfit - tuple(top, bot, shs)\n",
    "    top - hsv\n",
    "    bot - hsv\n",
    "    shs - hsv\n",
    "OUTPUT:\n",
    "    All names of valid outfit matches\n",
    "\"\"\"\n",
    "def GetValidMatches(outfit):\n",
    "    top = GetColorDesc(outfit[0])\n",
    "    bot = GetColorDesc(outfit[1])\n",
    "    shs = GetColorDesc(outfit[2])\n",
    "    outfit_desc = (top, bot, shs)\n",
    "    \n",
    "    rules = {\"Basic\": BasicMatch, \"Neutral\": NeutralMatch,\n",
    "             \"Analogous\": AnalogousMatch, \"Summer\": SummerMatch,\n",
    "            \"Winter\": WinterMatch}\n",
    "    valid_matches = []\n",
    "    for key in rules:\n",
    "        if rules[key](outfit_desc):\n",
    "            valid_matches.append(key)\n",
    "    if valid_matches: # if there is a match\n",
    "        print(color.BOLD + \"It's a match!\" + color.END)\n",
    "    else:\n",
    "        print(color.BOLD + \"It doesn't match!\" + color.END)\n",
    "    return valid_matches"
   ]
  },
  {
   "cell_type": "code",
   "execution_count": 23,
   "metadata": {},
   "outputs": [],
   "source": [
    "from ipywidgets import widgets\n",
    "# Print that the HSV value are inserted - the HSV input should be in ( , , ) format\n",
    "# def on_submit(b, top, bottom, shoes):\n",
    "#     print(\"Your HSV values were inserted to the system\")\n",
    "#     input_outfit = ((cr_tup(top),cr_tup(bottom),cr_tup(shoes)))\n",
    "    \n",
    "def on_submit(top, bottom, shoes):\n",
    "    input_outfit = ((cr_tup(top),cr_tup(bottom),cr_tup(shoes)))\n",
    "    outfit_hsv=(top, bottom, shoes)\n",
    "    DisplayOutfitColors(input_outfit, valid_matches=GetValidMatches(input_outfit))\n",
    "\n",
    "#     DisplayOutfitColors((cr_tup(top), cr_tup(bottom),cr_tup(shoes)))\n",
    "#     GetValidMatches(input_outfit)\n",
    "    topDESC = GetColorDesc(cr_tup(top))\n",
    "    botDESC = GetColorDesc(cr_tup(bottom))\n",
    "    shsDESC = GetColorDesc(cr_tup(shoes))\n",
    "    outfit_desc = (topDESC, botDESC, shsDESC)\n",
    "    print(outfit_desc)\n",
    "\n",
    "def displayButton():\n",
    "    print(\"Insert HSV values in (H,S,V) format (including the '()')\")\n",
    "# Create text input widgets for getting HSV value\n",
    "    hsv_top = widgets.Text(value='', placeholder='HSV TOP')\n",
    "    hsv_bottom = widgets.Text(value='', placeholder='HSV BOTTOM')\n",
    "    hsv_shoes = widgets.Text(value='', placeholder='HSV SHOES')\n",
    "\n",
    "    # Display the input widgets\n",
    "    display(widgets.HTML(\"<b>Top</b>\"))\n",
    "    display(hsv_top)\n",
    "\n",
    "    display(widgets.HTML(\"<b>Bottom</b>\"))\n",
    "    display(hsv_bottom)\n",
    "\n",
    "    display(widgets.HTML(\"<b>Shoes</b>\"))\n",
    "    display(hsv_shoes)\n",
    "    # Create a submit button\n",
    "#     submit_button = widgets.Button(description=\"Submit\")\n",
    "#     submit_button.on_click(on_submit, top = hsv_top, bottom = hsv_bottom, shoes=hsv_shoes)\n",
    "    \n",
    "    submit_button = widgets.Button(description=\"Submit\")\n",
    "    submit_button.on_click(lambda b: on_submit(hsv_top, hsv_bottom,hsv_shoes))\n",
    "    # Display the submit button\n",
    "    display(submit_button)"
   ]
  },
  {
   "cell_type": "markdown",
   "metadata": {},
   "source": [
    "## Interactive section starts here\n",
    "### please click on the below cell and run all the above. Then you can start running the below cell"
   ]
  },
  {
   "cell_type": "code",
   "execution_count": 24,
   "metadata": {
    "scrolled": false
   },
   "outputs": [
    {
     "name": "stdout",
     "output_type": "stream",
     "text": [
      "Insert HSV values in (H,S,V) format (including the '()')\n"
     ]
    },
    {
     "data": {
      "application/vnd.jupyter.widget-view+json": {
       "model_id": "0d9f2e1f217b4e02adef4974def40ca8",
       "version_major": 2,
       "version_minor": 0
      },
      "text/plain": [
       "HTML(value='<b>Top</b>')"
      ]
     },
     "metadata": {},
     "output_type": "display_data"
    },
    {
     "data": {
      "application/vnd.jupyter.widget-view+json": {
       "model_id": "af87815cf862431b8459a7a64816569a",
       "version_major": 2,
       "version_minor": 0
      },
      "text/plain": [
       "Text(value='', placeholder='HSV TOP')"
      ]
     },
     "metadata": {},
     "output_type": "display_data"
    },
    {
     "data": {
      "application/vnd.jupyter.widget-view+json": {
       "model_id": "1df2904143f34e30a735582b431f4893",
       "version_major": 2,
       "version_minor": 0
      },
      "text/plain": [
       "HTML(value='<b>Bottom</b>')"
      ]
     },
     "metadata": {},
     "output_type": "display_data"
    },
    {
     "data": {
      "application/vnd.jupyter.widget-view+json": {
       "model_id": "33bf6999958846ab82472b394e88f925",
       "version_major": 2,
       "version_minor": 0
      },
      "text/plain": [
       "Text(value='', placeholder='HSV BOTTOM')"
      ]
     },
     "metadata": {},
     "output_type": "display_data"
    },
    {
     "data": {
      "application/vnd.jupyter.widget-view+json": {
       "model_id": "413a0b38fca34147943d21d93720c331",
       "version_major": 2,
       "version_minor": 0
      },
      "text/plain": [
       "HTML(value='<b>Shoes</b>')"
      ]
     },
     "metadata": {},
     "output_type": "display_data"
    },
    {
     "data": {
      "application/vnd.jupyter.widget-view+json": {
       "model_id": "bc056fc4f77045cd9001f4f2d0f661ec",
       "version_major": 2,
       "version_minor": 0
      },
      "text/plain": [
       "Text(value='', placeholder='HSV SHOES')"
      ]
     },
     "metadata": {},
     "output_type": "display_data"
    },
    {
     "data": {
      "application/vnd.jupyter.widget-view+json": {
       "model_id": "d63cadc854f14c94b2f09884b3ce2f63",
       "version_major": 2,
       "version_minor": 0
      },
      "text/plain": [
       "Button(description='Submit', style=ButtonStyle())"
      ]
     },
     "metadata": {},
     "output_type": "display_data"
    },
    {
     "name": "stdout",
     "output_type": "stream",
     "text": [
      "\u001b[1mIt's a match!\u001b[0m\n"
     ]
    },
    {
     "data": {
      "image/png": "[encoded data removed]",
      "text/plain": [
       "<Figure size 640x480 with 1 Axes>"
      ]
     },
     "metadata": {},
     "output_type": "display_data"
    },
    {
     "name": "stdout",
     "output_type": "stream",
     "text": [
      "Valid outfit color schemes:  ['Analogous']\n",
      "(('BRIGHT', 'COOL'), ('BRIGHT', 'COOL'), ('BRIGHT', 'COOL'))\n"
     ]
    }
   ],
   "source": [
    "displayButton()"
   ]
  },
  {
   "cell_type": "markdown",
   "metadata": {},
   "source": [
    "_____________________________________________________________________________________________________________"
   ]
  },
  {
   "cell_type": "markdown",
   "metadata": {},
   "source": [
    "# Expert advice"
   ]
  },
  {
   "cell_type": "code",
   "execution_count": null,
   "metadata": {},
   "outputs": [],
   "source": []
  },
  {
   "cell_type": "code",
   "execution_count": 25,
   "metadata": {},
   "outputs": [],
   "source": [
    "def convert_rgb_to_hsv(red,green,blue):\n",
    "    #rgb normal: range (0-255, 0-255, 0.255)\n",
    "    #get rgb percentage: range (0-1, 0-1, 0-1 )\n",
    "    red_percentage= red / float(255)\n",
    "    green_percentage= green/ float(255)\n",
    "    blue_percentage=blue / float(255)\n",
    "    \n",
    "    #get hsv percentage: range (0-1, 0-1, 0-1)\n",
    "    color_hsv_percentage=colorsys.rgb_to_hsv(red_percentage, green_percentage, blue_percentage) \n",
    "    \n",
    "    #get normal hsv: range (0-360, 0-255, 0-255)\n",
    "    color_h=round(360*color_hsv_percentage[0])\n",
    "    color_s=round(255*color_hsv_percentage[1])\n",
    "    color_v=round(255*color_hsv_percentage[2])\n",
    "    color_hsv=(color_h, color_s, color_h)\n",
    "    return color_hsv"
   ]
  },
  {
   "cell_type": "code",
   "execution_count": 26,
   "metadata": {},
   "outputs": [],
   "source": [
    "my_top = convert_rgb_to_hsv(250,242,240)\n",
    "my_bottom = convert_rgb_to_hsv(158,133,140)\n",
    "my_shoes = convert_rgb_to_hsv(0,0,0)\n",
    "\n",
    "my_outfit = (my_top,my_bottom,my_shoes)"
   ]
  },
  {
   "cell_type": "code",
   "execution_count": 27,
   "metadata": {},
   "outputs": [
    {
     "name": "stdout",
     "output_type": "stream",
     "text": [
      "\u001b[1mIt's a match!\u001b[0m\n"
     ]
    },
    {
     "data": {
      "text/plain": [
       "['Basic', 'Analogous']"
      ]
     },
     "execution_count": 27,
     "metadata": {},
     "output_type": "execute_result"
    }
   ],
   "source": [
    "GetValidMatches(my_outfit)"
   ]
  },
  {
   "cell_type": "code",
   "execution_count": null,
   "metadata": {},
   "outputs": [],
   "source": []
  }
 ],
 "metadata": {
  "kernelspec": {
   "display_name": "Python 3 (ipykernel)",
   "language": "python",
   "name": "python3"
  },
  "language_info": {
   "codemirror_mode": {
    "name": "ipython",
    "version": 3
   },
   "file_extension": ".py",
   "mimetype": "text/x-python",
   "name": "python",
   "nbconvert_exporter": "python",
   "pygments_lexer": "ipython3",
   "version": "3.9.7"
  }
 },
 "nbformat": 4,
 "nbformat_minor": 4
}
